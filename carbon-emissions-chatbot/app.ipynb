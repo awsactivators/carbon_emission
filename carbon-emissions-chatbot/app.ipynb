{
 "cells": [
  {
   "cell_type": "code",
   "execution_count": null,
   "id": "817febfc-1180-4fae-a69c-65c84745809b",
   "metadata": {},
   "outputs": [],
   "source": [
    "! pip3 install --upgrade pip\n",
    "! pip3 install langchain openai psycopg2-binary langchain_experimental langchain-openai"
   ]
  },
  {
   "cell_type": "code",
   "execution_count": null,
   "id": "3680dc0a-f2e7-44b0-ae84-9bfe3a64f078",
   "metadata": {},
   "outputs": [],
   "source": [
    "from langchain import SQLDatabase\n",
    "from langchain_openai import ChatOpenAI\n",
    "from langchain_experimental.sql import SQLDatabaseChain\n",
    "import os\n",
    "import csv\n",
    "import psycopg2\n",
    "from huggingface_hub import HfApi\n",
    "import sqlite3\n",
    "import gradio as gr"
   ]
  },
  {
   "cell_type": "code",
   "execution_count": null,
   "id": "72f59c0c-4b85-47d6-877e-dcf441bd02a8",
   "metadata": {},
   "outputs": [],
   "source": [
    "DB_USERNAME = os.environ.get(\"DB_USERNAME\")\n",
    "DB_PASSWORD = os.environ.get(\"DB_PASSWORD\")\n",
    "DB_HOST = os.environ.get(\"DB_HOST\", \"localhost\")\n",
    "DB_PORT = os.environ.get(\"DB_PORT\", \"5432\")\n",
    "DB_NAME = os.environ.get(\"DB_NAME\")\n",
    "OPENAI_API_KEY = os.environ.get(\"OPENAI_API_KEY\")\n",
    "GPT_MODEL = \"gpt-3.5-turbo-0125\"\n",
    "db_type = \"none\""
   ]
  },
  {
   "cell_type": "markdown",
   "id": "dd464a01-d6f0-421c-af65-664663290873",
   "metadata": {},
   "source": [
    "## Setup Database\n",
    "\n",
    "[Allowing remote DB connections](https://blog.devart.com/configure-postgresql-to-allow-remote-connection.html)\n",
    "\n",
    "\n",
    "```bash\n",
    "sudo apt install postgresql\n",
    "sudo -i -u postgres\n",
    "createdb <db name>\n",
    "createuser --interactive --pwprompt <username>\n",
    "psql\n",
    "GRANT ALL PRIVILEGES ON DATABASE <db name> TO <username>;\n",
    "\\q\n",
    "exit\n",
    "sudo nano /etc/postgresql/12/main/pg_hba.conf\n",
    "sudo systemctl restart postgresql\n",
    "psql -U <username> -d <db name>\n",
    "```\n",
    "\n",
    "## Create tables\n",
    "```sql\n",
    "CREATE TABLE travel_category (\n",
    "    category_id INTEGER PRIMARY KEY,\n",
    "    main_category VARCHAR(100) NOT NULL,\n",
    "    category VARCHAR(100) NOT NULL,\n",
    "    sub_category VARCHAR(100) NOT NULL,\n",
    "    emission_factor DOUBLE PRECISION NOT NULL,\n",
    "    transaction_unit VARCHAR(100) NOT NULL\n",
    ");\n",
    "```\n",
    "```sql\n",
    "CREATE TABLE employee (\n",
    "    employee_id INTEGER PRIMARY KEY,\n",
    "    title VARCHAR(100) NOT NULL,\n",
    "    department VARCHAR(100) NOT NULL\n",
    ");\n",
    "```\n",
    "```sql\n",
    "CREATE TABLE travel (\n",
    "    travel_id SERIAL PRIMARY KEY,\n",
    "    source VARCHAR(100) NOT NULL,\n",
    "    destination VARCHAR(100) NOT NULL,\n",
    "    transaction_value DOUBLE PRECISION NOT NULL,\n",
    "    cost DOUBLE PRECISION NOT NULL,\n",
    "    date DATE NOT NULL,\n",
    "    category_id INTEGER REFERENCES travel_category(category_id) ON DELETE CASCADE,\n",
    "    employee_id INTEGER REFERENCES employee(employee_id) ON DELETE CASCADE,\n",
    "    transaction_unit VARCHAR(100) NOT NULL\n",
    ");\n",
    "```\n",
    "```sql\n",
    "CREATE TABLE date (\n",
    "    date_id VARCHAR(100) PRIMARY KEY,\n",
    "    quarter INTEGER NOT NULL,\n",
    "    month INTEGER NOT NULL,\n",
    "    year INTEGER NOT NULL\n",
    ");\n",
    "```"
   ]
  },
  {
   "cell_type": "markdown",
   "id": "60fe34a9-6cb1-437e-81ca-8c2afa28035d",
   "metadata": {},
   "source": [
    "## Load the data"
   ]
  },
  {
   "cell_type": "code",
   "execution_count": null,
   "id": "13d4c5d7",
   "metadata": {},
   "outputs": [],
   "source": [
    "if db_type == \"postgresql\":\n",
    "    conn = psycopg2.connect(\n",
    "        dbname=DB_NAME, user=DB_USERNAME, password=DB_PASSWORD, host=DB_HOST\n",
    "    )\n",
    "    cursor = conn.cursor()\n",
    "else:\n",
    "    conn = sqlite3.connect(\"carbon-emissions.db\")\n",
    "    cursor = conn.cursor()"
   ]
  },
  {
   "cell_type": "code",
   "execution_count": null,
   "id": "20d6cfd2-0d58-4ff8-9671-7aaad33a9e51",
   "metadata": {},
   "outputs": [],
   "source": [
    "def create_table(table_query):\n",
    "    try:\n",
    "        cursor.execute(table_query)\n",
    "        conn.commit()\n",
    "        print(f\"Table creation successfully.\")\n",
    "    except Exception as e:\n",
    "        conn.rollback()\n",
    "\n",
    "\n",
    "def load_data_into_postgresql(csv_file, table_name):\n",
    "    with open(csv_file, \"r\", newline=\"\") as file:\n",
    "        reader = csv.reader(file)\n",
    "        next(reader)\n",
    "        for row in reader:\n",
    "            try:\n",
    "                placeholders = \",\".join([\"%s\"] * len(row))\n",
    "                sql = f\"INSERT INTO {table_name} VALUES ({placeholders})\"\n",
    "                cursor.execute(sql, row)\n",
    "            except psycopg2.Error as e:\n",
    "                conn.rollback()\n",
    "                print(f\"Error inserting row: {e}\")\n",
    "                continue\n",
    "    conn.commit()\n",
    "    print(f\"Data loaded into {table_name} table successfully.\")\n",
    "\n",
    "\n",
    "def load_data_into_sqlite(csv_file, table_name):\n",
    "    with open(csv_file, \"r\", newline=\"\") as file:\n",
    "        reader = csv.reader(file)\n",
    "        next(reader)\n",
    "        for row in reader:\n",
    "            try:\n",
    "                placeholders = \",\".join([\"?\"] * len(row))\n",
    "                sql = f\"INSERT INTO {table_name} VALUES ({placeholders})\"\n",
    "                cursor.execute(sql, row)\n",
    "            except Exception as e:\n",
    "                conn.rollback()\n",
    "                print(f\"Error inserting row: {e}\")\n",
    "                continue\n",
    "    conn.commit()\n",
    "    print(f\"Data loaded into {table_name} table successfully.\")"
   ]
  },
  {
   "cell_type": "code",
   "execution_count": null,
   "id": "05bbc3ae",
   "metadata": {},
   "outputs": [],
   "source": [
    "create_travel_category_table_query = \"\"\"\n",
    "    CREATE TABLE travel_category (\n",
    "        category_id INTEGER PRIMARY KEY,\n",
    "        main_category VARCHAR(100) NOT NULL,\n",
    "        category VARCHAR(100) NOT NULL,\n",
    "        sub_category VARCHAR(100) NOT NULL,\n",
    "        emission_factor DOUBLE PRECISION NOT NULL,\n",
    "        transaction_unit VARCHAR(100) NOT NULL\n",
    "    );\n",
    "\"\"\"\n",
    "\n",
    "create_employee_table_query = \"\"\"\n",
    "    CREATE TABLE employee (\n",
    "        employee_id INTEGER PRIMARY KEY,\n",
    "        title VARCHAR(100) NOT NULL,\n",
    "        department VARCHAR(100) NOT NULL\n",
    "    );\n",
    "\"\"\"\n",
    "\n",
    "create_travel_table_query = \"\"\"\n",
    "    CREATE TABLE travel (\n",
    "        travel_id SERIAL PRIMARY KEY,\n",
    "        source VARCHAR(100) NOT NULL,\n",
    "        destination VARCHAR(100) NOT NULL,\n",
    "        transaction_value DOUBLE PRECISION NOT NULL,\n",
    "        cost DOUBLE PRECISION NOT NULL,\n",
    "        date DATE NOT NULL,\n",
    "        category_id INTEGER REFERENCES travel_category(category_id) ON DELETE CASCADE,\n",
    "        employee_id INTEGER REFERENCES employee(employee_id) ON DELETE CASCADE,\n",
    "        transaction_unit VARCHAR(100) NOT NULL\n",
    "    );\n",
    "\"\"\""
   ]
  },
  {
   "cell_type": "code",
   "execution_count": null,
   "id": "5854ce6c",
   "metadata": {},
   "outputs": [],
   "source": [
    "create_table(create_travel_category_table_query)\n",
    "create_table(create_employee_table_query)\n",
    "create_table(create_travel_table_query)"
   ]
  },
  {
   "cell_type": "code",
   "execution_count": null,
   "id": "ff6f9d55-9ea0-47ee-866a-d144381c275c",
   "metadata": {},
   "outputs": [],
   "source": [
    "if db_type == \"postgresql\":\n",
    "    load_data_into_postgresql(\"employee.csv\", \"employee\")\n",
    "    load_data_into_postgresql(\"travel_category.csv\", \"travel_category\")\n",
    "    load_data_into_postgresql(\"travel.csv\", \"travel\")\n",
    "else:\n",
    "    load_data_into_sqlite(\"employee.csv\", \"employee\")\n",
    "    load_data_into_sqlite(\"travel_category.csv\", \"travel_category\")\n",
    "    load_data_into_sqlite(\"travel.csv\", \"travel\")"
   ]
  },
  {
   "cell_type": "code",
   "execution_count": null,
   "id": "5372f13a-8d6e-43e7-a792-1b9c56dae2f5",
   "metadata": {},
   "outputs": [],
   "source": [
    "cursor.close()\n",
    "conn.close()"
   ]
  },
  {
   "cell_type": "markdown",
   "id": "d79b79b7-d1d0-4a6b-be84-1e5242e94dbb",
   "metadata": {},
   "source": [
    "## Setup LLM"
   ]
  },
  {
   "cell_type": "code",
   "execution_count": null,
   "id": "49e747a0-a2d5-4c96-b9e6-51be6b4df252",
   "metadata": {},
   "outputs": [],
   "source": [
    "if db_type == \"postgresql\":\n",
    "    db_uri = f\"postgresql+psycopg2://{DB_USERNAME}:{DB_PASSWORD}@{DB_HOST}:{DB_PORT}/{DB_NAME}\"\n",
    "else:\n",
    "    db_uri = \"sqlite:///carbon-emissions.db\"\n",
    "\n",
    "db = SQLDatabase.from_uri(db_uri)\n",
    "llm = ChatOpenAI(api_key=OPENAI_API_KEY, model=GPT_MODEL)\n",
    "db_chain = SQLDatabaseChain(llm=llm, database=db, verbose=True, top_k=3)"
   ]
  },
  {
   "cell_type": "markdown",
   "id": "716aed8f",
   "metadata": {},
   "source": []
  },
  {
   "cell_type": "code",
   "execution_count": null,
   "id": "e283c4bc-841d-42b8-badc-599d07b1281d",
   "metadata": {},
   "outputs": [],
   "source": [
    "PROMPT = \"\"\" \n",
    "Given an input question, first create a syntactically correct Postgresql query without ```sql formatting in the query. \n",
    "Run the query then look at the results of the query.\n",
    "Interpret th results and return an answer.  \n",
    "The question: {question}\n",
    "\"\"\""
   ]
  },
  {
   "cell_type": "markdown",
   "id": "5f07be0d-3d21-4776-929d-6ea71b0def8e",
   "metadata": {},
   "source": [
    "## Run a query"
   ]
  },
  {
   "cell_type": "code",
   "execution_count": null,
   "id": "e3f1d095-3f77-46a5-8cf4-56de710e4322",
   "metadata": {},
   "outputs": [],
   "source": [
    "question = \"what is the average carbo emission for 2023?\"\n",
    "response = db_chain.run(PROMPT.format(question=question))"
   ]
  },
  {
   "cell_type": "code",
   "execution_count": null,
   "id": "6236fdd7-b984-4478-b1ca-43851b19c10a",
   "metadata": {},
   "outputs": [],
   "source": [
    "response"
   ]
  },
  {
   "cell_type": "markdown",
   "id": "50200a87",
   "metadata": {},
   "source": [
    "## Deploy to Huggingface"
   ]
  },
  {
   "cell_type": "code",
   "execution_count": null,
   "id": "92e55aa0",
   "metadata": {},
   "outputs": [],
   "source": [
    "token = os.getenv(\"HUGGINFACE_TAKEN\")\n",
    "repo_id = \"noahnsimbe/carbon-emissions-chat\"\n",
    "api = HfApi(token=token)\n",
    "api.upload_file(\n",
    "    path_or_fileobj=\"carbon-emissions.db\",\n",
    "    path_in_repo=\"carbon-emissions.db\",\n",
    "    repo_id=repo_id,\n",
    "    repo_type=\"space\",\n",
    ")\n",
    "api.upload_file(\n",
    "    path_or_fileobj=\"requirements.txt\",\n",
    "    path_in_repo=\"requirements.txt\",\n",
    "    repo_id=repo_id,\n",
    "    repo_type=\"space\",\n",
    ")\n",
    "api.upload_file(\n",
    "    path_or_fileobj=\"app.py\",\n",
    "    path_in_repo=\"app.py\",\n",
    "    repo_id=repo_id,\n",
    "    repo_type=\"space\",\n",
    ")\n",
    "api.upload_file(\n",
    "    path_or_fileobj=\"ChatBot-README.md\",\n",
    "    path_in_repo=\"README.md\",\n",
    "    repo_id=repo_id,\n",
    "    repo_type=\"space\",\n",
    ")"
   ]
  }
 ],
 "metadata": {
  "kernelspec": {
   "display_name": "Python 3 (ipykernel)",
   "language": "python",
   "name": "python3"
  },
  "language_info": {
   "codemirror_mode": {
    "name": "ipython",
    "version": 3
   },
   "file_extension": ".py",
   "mimetype": "text/x-python",
   "name": "python",
   "nbconvert_exporter": "python",
   "pygments_lexer": "ipython3",
   "version": "3.11.5"
  }
 },
 "nbformat": 4,
 "nbformat_minor": 5
}
